{
 "cells": [
  {
   "cell_type": "code",
   "execution_count": null,
   "metadata": {
    "collapsed": false
   },
   "outputs": [],
   "source": [
    "%pylab inline\n",
    "import pandas as pd"
   ]
  },
  {
   "cell_type": "code",
   "execution_count": null,
   "metadata": {
    "collapsed": false
   },
   "outputs": [],
   "source": [
    "num_segments = 100\n",
    "num_targets_mean = 25\n",
    "\n",
    "num_targets = random.poisson(num_targets_mean, num_segments)\n",
    "\n",
    "# segment-level means are drawn from Uniform(-5, 5)\n",
    "means = random.uniform(-5, 5, num_segments)\n",
    "\n",
    "# target-level log_2 coverages are drawn from 0.95 * Norm(mean, sqrt(var)) + 0.025 * Uniform(-10, 10)\n",
    "variance = 1.\n",
    "outlier_prob = 0.025\n",
    "target = 0\n",
    "coverages = []\n",
    "outlier_indicators = []\n",
    "for s in range(num_segments):\n",
    "    for t in range(num_targets[s]):\n",
    "        if random.random() < outlier_prob:\n",
    "            coverages.append(random.uniform(-10, 10))\n",
    "            outlier_indicators.append(1)\n",
    "        else:\n",
    "            coverages.append(random.normal(means[s], sqrt(variance)))\n",
    "            outlier_indicators.append(0)\n",
    "        target += 1\n",
    "coverages = array(coverages)"
   ]
  },
  {
   "cell_type": "code",
   "execution_count": null,
   "metadata": {
    "collapsed": false
   },
   "outputs": [],
   "source": [
    "fig = plt.figure(figsize=(20, 4))\n",
    "scatter(range(len(coverages)), coverages)\n",
    "xlim([0, len(coverages)])\n",
    "show()"
   ]
  },
  {
   "cell_type": "code",
   "execution_count": null,
   "metadata": {
    "collapsed": true
   },
   "outputs": [],
   "source": [
    "test_dir = '../src/test/resources/org/broadinstitute/hellbender/tools/exome/'"
   ]
  },
  {
   "cell_type": "code",
   "execution_count": null,
   "metadata": {
    "collapsed": false
   },
   "outputs": [],
   "source": [
    "# convert num_targets into a segment file; all targets span 10 positions, chromosomes each have 10 segments\n",
    "# convert coverages into a target-coverage file; all targets span 10 positions\n",
    "sample = 'test'\n",
    "name_prefix = 't'\n",
    "chromosome_names = [str(i) for i in range(1, 11)]\n",
    "\n",
    "segment_pd = pd.DataFrame(columns=['Sample', 'Chromosome', 'Start', 'End'])\n",
    "coverages_pd = pd.DataFrame(columns=['name', 'contig', 'start', 'stop', sample])\n",
    "\n",
    "target_index = 0\n",
    "segments_per_chromosome = 10\n",
    "for i, chromosome in enumerate(chromosome_names):\n",
    "    end = 0\n",
    "    for segment_index in range(segments_per_chromosome * i, segments_per_chromosome * (i + 1)):\n",
    "        start = end + 1\n",
    "        end = end + 10 * num_targets[segment_index]\n",
    "        segment_pd.loc[segment_index] = [sample, chromosome, start, end]\n",
    "        for target_start in range(start, end, 10):\n",
    "            name = name_prefix + str(target_index + 1)\n",
    "            coverages_pd.loc[target_index] = [name, \n",
    "                                              chromosome, target_start, target_start + 9, \n",
    "                                              around(coverages[target_index], decimals=2)]\n",
    "            target_index += 1\n",
    "        \n",
    "segment_pd['Start'] = segment_pd['Start'].astype(int)\n",
    "segment_pd['End'] = segment_pd['End'].astype(int)\n",
    "coverages_pd['start'] = coverages_pd['start'].astype(int)\n",
    "coverages_pd['stop'] = coverages_pd['stop'].astype(int)\n",
    "\n",
    "segment_pd.to_csv(test_dir + 'segments-for-copy-ratio-modeller.seg', sep='\\t', index=False)\n",
    "coverages_pd.to_csv(test_dir + 'coverages-for-copy-ratio-modeller.tsv', sep='\\t', index=False)\n",
    "savetxt(test_dir + 'segment-means-truth-for-copy-ratio-modeller.txt', means, fmt='%.3f')\n",
    "savetxt(test_dir + 'outlier-indicators-truth-for-copy-ratio-modeller.txt', outlier_indicators, fmt='%d')"
   ]
  }
 ],
 "metadata": {
  "kernelspec": {
   "display_name": "Python 3",
   "language": "python",
   "name": "python3"
  },
  "language_info": {
   "codemirror_mode": {
    "name": "ipython",
    "version": 3
   },
   "file_extension": ".py",
   "mimetype": "text/x-python",
   "name": "python",
   "nbconvert_exporter": "python",
   "pygments_lexer": "ipython3",
   "version": "3.4.4"
  }
 },
 "nbformat": 4,
 "nbformat_minor": 0
}
